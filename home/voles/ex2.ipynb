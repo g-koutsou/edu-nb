{
 "cells": [
  {
   "cell_type": "markdown",
   "metadata": {},
   "source": [
    "**Οδηγίες**: Εκτελέστε την άσκηση αυτή αφού ακολουθήσετε την άσκηση `ex1.ipynb`, που βρίσκεται στον ίδιο φάκελο (folder) `voles`. Η `ex1.ipynb` προαπαιτείται για την κατανόηση των βημάτων που  ακολουθούν πιο κάτω.\n",
    "\n",
    "Ξεκινήστε όπως στην `ex1.ipynb`, εκτελώντας την πιο κάτω κυψέλη για να θέσετε το περιβάλλον."
   ]
  },
  {
   "cell_type": "code",
   "execution_count": null,
   "metadata": {},
   "outputs": [],
   "source": [
    "%precision 2\n",
    "import numpy as np\n",
    "from matplotlib import pyplot as plt\n",
    "%matplotlib inline\n",
    "fmt = \"{:.2f} {:.2f} {:.2f} {:.2f}\""
   ]
  },
  {
   "cell_type": "markdown",
   "metadata": {},
   "source": [
    "# Πλάγια βολή με τριβή"
   ]
  },
  {
   "cell_type": "markdown",
   "metadata": {
    "heading_collapsed": true
   },
   "source": [
    "## Εισαγωγή τριβής"
   ]
  },
  {
   "cell_type": "markdown",
   "metadata": {
    "hidden": true
   },
   "source": [
    "Θα ακολουθήσει μια άσκηση για την αριθμητική επίλυση της πλάγιας βολής _με τριβή_. \"Με τριβή\" εννοούμε πως το βλήμα δέχεται δύναμη αντίθετη της κίνησης του, που συνεπώς προκαλεί επιβράδυνση του σώματος. Θα υποθέσουμε πως η επιβράδυνση που δέχεται το σώμα είναι στην οριζόντια διεύθυνση και δίδεται ως:\n",
    "$$\n",
    "a_x = -b u_x,\n",
    "$$\n",
    "δηλαδή είναι ανάλογη της ταχύτητας στην οριζόντια διεύθυνση, με συντελεστή αναλογίας τον συντελεστή τριβής $b$."
   ]
  },
  {
   "cell_type": "markdown",
   "metadata": {
    "heading_collapsed": true
   },
   "source": [
    "## Κώδικας"
   ]
  },
  {
   "cell_type": "markdown",
   "metadata": {
    "hidden": true
   },
   "source": [
    "Στην επόμενη κυψέλη ακολουθεί η υπορουτίνα `update` που χρησιμοποιήσαμε και στην προηγούμενη άσκηση. Για αυτή την άσκηση, θέλουμε να τροποποιήσουμε τον κώδικα ώστε να λαμβάνει υπ' όψιν τον συντελεστή τριβής και την επιβράδυνση που προκαλεί. Για να το επιτύχουμε αυτό, αρκεί να θέσουμε την επιτάχυνση στον οριζόντιο άξονα με `-b*vx`. Αφού κάνετε αυτή την αλλαγή, τρέξτε την επόμενη κυψέλη για να ορίσετε την υπορουτίνα `update`.  "
   ]
  },
  {
   "cell_type": "code",
   "execution_count": null,
   "metadata": {
    "hidden": true,
    "slideshow": {
     "slide_type": "-"
    }
   },
   "outputs": [],
   "source": [
    "def update(x, y, vx, vy):\n",
    "    ax = 0 # αντικαταστείστε το μηδέν με την έκφραση που λαμβάνει υπ' όψιν την τριβή\n",
    "    ay = -10\n",
    "\n",
    "    x_new = x + vx*dt\n",
    "    y_new = y + vy*dt\n",
    "    vx_new = vx + ax*dt\n",
    "    vy_new = vy + ay*dt\n",
    "    \n",
    "    return x_new, y_new, vx_new, vy_new"
   ]
  },
  {
   "cell_type": "markdown",
   "metadata": {
    "hidden": true
   },
   "source": [
    "Υπενθυμίζεται πως, έχοντας τρέξει την πιο πάνω κυψέλη έχετε απλά ορίσει την υπορουτίνα, αλλά δεν έχετε ακόμη εκτελέσει την υπορουτίνα.\n",
    "\n",
    "Θα πάμε κατευθείαν στον ορισμό της υπορουτίνας `graph`, η οποία ακολουθεί στην επόμενη κυψέλη και είναι ακριβώς ίδια με την προηγούμενη άσκηση. Σημειώστε όμως πως δεν έχουμε **αναλυτική λύση** για την πλάγια βολή με τριβή. Στην `graph`, με διακεκομμένη γραμμή, θα συνεχίσουμε να απεικονίζουμε την λύση χωρίς τριβή, και θα συγκρίνουμε με την καμπύλη που προκύπτει από την νέα υπορουτίνα `update` η οποία λαμβάνει υπ' όψιν την τριβή. Τρέξτε την πιο κάτω κυψέλη:"
   ]
  },
  {
   "cell_type": "code",
   "execution_count": null,
   "metadata": {
    "code_folding": [
     0
    ],
    "hidden": true
   },
   "outputs": [],
   "source": [
    "def graph(x, y, vx, vy):\n",
    "    # Ορίζουμε την επιτάχυνση της βαρύτητας \n",
    "    g = 10\n",
    "\n",
    "    # Το βεληνεκές από την αναλυτική λύση\n",
    "    r = vx/g*(vy + np.sqrt(vy**2 + 2*g*y))\n",
    "\n",
    "    # Ζωγραφίζουμε, με διακεκομμένη γραμμή, την αναλυτική λύση για τιμές του x από μηδέν μέχρι το βεληνεκές r\n",
    "    xx = np.linspace(0,r)\n",
    "    plt.plot(xx, y + vy/vx*(xx - x) - g/2*(xx-x)**2/vx**2, ls=\"--\", color=\"k\")\n",
    "    \n",
    "    # Ορίζουμε μια νέα λίστα, με αρχικές τιμές την αρχική θέση\n",
    "    trajectory = [(x, y)]\n",
    "    \n",
    "    # Επαναλαμβάνουμε τον επόμενο βρόγχο εως ότου το y γίνει αρνητικό\n",
    "    while y >= 0:\n",
    "        # Τρέχουμε την update(), με όρισμα τις μεταβλητές x, y, vx, και vy, και αποθηκεύουμε \n",
    "        # τις νέες τιμές στις ίδιες μεταβλητές\n",
    "        x, y, vx, vy = update(x, y, vx, vy)\n",
    "        \n",
    "        # Βάζουμε στο τέλος της λίστας τις νέες τιμές\n",
    "        trajectory.append((x,y))\n",
    "        \n",
    "    # Ζωγραφίζουμε με κόκκινους κύκλους τις τιμές της λίστας\n",
    "    plt.plot(*zip(*trajectory), ls=\"-\", color=\"r\", lw=0.1, marker=\"o\", ms=4)\n",
    "\n",
    "    # Θέτουμε τα όρια των αξόνων\n",
    "    plt.xlim(0, 0.5)\n",
    "    plt.ylim(0, 0.4)\n",
    "    \n",
    "    # Συμβολίζουμε τους άξονες\n",
    "    plt.xlabel(\"x [m]\")\n",
    "    plt.ylabel(\"y [m]\")"
   ]
  },
  {
   "cell_type": "markdown",
   "metadata": {
    "heading_collapsed": true
   },
   "source": [
    "## Εκτέλεση"
   ]
  },
  {
   "cell_type": "markdown",
   "metadata": {
    "hidden": true
   },
   "source": [
    "Έχοντας ορίσει τις υπορουτίνες `update` και `graph` προχωράμε στην εκτέλεση της `graph`. Ορίστε τον συντελεστή `b` σε `0.1`, και το `dt` σε `0.0025`:"
   ]
  },
  {
   "cell_type": "code",
   "execution_count": null,
   "metadata": {
    "hidden": true
   },
   "outputs": [],
   "source": [
    "b = 0.1\n",
    "dt = 0.0025"
   ]
  },
  {
   "cell_type": "markdown",
   "metadata": {
    "hidden": true
   },
   "source": [
    "Ακολούθως τρέξτε την επόμενη κυψέλη, η οποία χρησιμοποιεί την ίδια αρχική θέση και ταχύτητα με την προηγούμενη άσκηση: "
   ]
  },
  {
   "cell_type": "code",
   "execution_count": null,
   "metadata": {
    "hidden": true
   },
   "outputs": [],
   "source": [
    "graph(0, 0, 1, 2)"
   ]
  },
  {
   "cell_type": "markdown",
   "metadata": {
    "hidden": true
   },
   "source": [
    "Παρατηρούμε ότι η λύση έχει ελάχιστα μικρότερο βεληνεκές σε σχέση με την την διακεκομμένη γραμμή (η οποία, υπενθυμίζουμε, δεν λαμβάνει υπ' όψιν την τριβή).\n",
    "\n",
    "Ακολούθως αυξήστε τον συντελεστή τριβής σε `0.5` και εκτελέστε ξανά:"
   ]
  },
  {
   "cell_type": "code",
   "execution_count": null,
   "metadata": {
    "hidden": true
   },
   "outputs": [],
   "source": [
    "b = 0.5\n",
    "graph(0, 0, 1, 2)"
   ]
  },
  {
   "cell_type": "markdown",
   "metadata": {
    "hidden": true
   },
   "source": [
    "Αυξήστε τον σε 1 και επαναλάβετε:"
   ]
  },
  {
   "cell_type": "code",
   "execution_count": null,
   "metadata": {
    "hidden": true
   },
   "outputs": [],
   "source": [
    "b = 1\n",
    "graph(0, 0, 1, 2)"
   ]
  },
  {
   "cell_type": "markdown",
   "metadata": {
    "hidden": true
   },
   "source": [
    "Παρατηρούμε πως, το βεληνεκές μειώνεται όσο αυξάνεται ο συντελεστής τριβής, όπως αναμενόταν. "
   ]
  }
 ],
 "metadata": {
  "kernelspec": {
   "display_name": "Python 3",
   "language": "python",
   "name": "python3"
  },
  "language_info": {
   "codemirror_mode": {
    "name": "ipython",
    "version": 3
   },
   "file_extension": ".py",
   "mimetype": "text/x-python",
   "name": "python",
   "nbconvert_exporter": "python",
   "pygments_lexer": "ipython3",
   "version": "3.6.3"
  }
 },
 "nbformat": 4,
 "nbformat_minor": 1
}
