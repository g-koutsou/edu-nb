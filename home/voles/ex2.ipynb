{
 "cells": [
  {
   "cell_type": "markdown",
   "metadata": {},
   "source": [
    "**Οδηγίες**: Εκτελέστε την άσκηση αυτή αφού ακολουθήσετε την άσκηση `ex1.ipynb`, που βρίσκεται στον ίδιο φάκελο (folder) `voles`. Η `ex1.ipynb` προαπαιτείται για την κατανόηση των βημάτων που  ακολουθούν πιο κάτω.\n",
    "\n",
    "Ξεκινήστε όπως στην `ex1.ipynb`, εκτελώντας την πιο κάτω κυψέλη για να θέσετε το περιβάλλον."
   ]
  },
  {
   "cell_type": "code",
   "execution_count": null,
   "metadata": {},
   "outputs": [],
   "source": [
    "%precision 2\n",
    "import numpy as np\n",
    "from matplotlib import pyplot as plt\n",
    "%matplotlib inline\n",
    "fmt = \"{:.2f} {:.2f} {:.2f} {:.2f}\""
   ]
  },
  {
   "cell_type": "markdown",
   "metadata": {},
   "source": [
    "# Υπολογιστική Επίλυση Πλάγιας Βολής με Αντίσταση του Αέρα"
   ]
  },
  {
   "cell_type": "markdown",
   "metadata": {
    "heading_collapsed": true
   },
   "source": [
    "## Θεωρία"
   ]
  },
  {
   "cell_type": "markdown",
   "metadata": {
    "hidden": true
   },
   "source": [
    "Γνωρίζετε από την Α΄Λυκείου ότι η αντίσταση του αέρα (οπισθέλκουσα δύναμη) που δρα σε ένα σώμα που κινείται έχει αντίθετη κατεύθυνση προς την ταχύτητα του σώματος. Η δύναμη της αντίστασης εξαρτάται από την ταχύτητα του σώματος. Εδώ θα υποθέσουμε ότι **ασκείται μόνο στην οριζόντια διεύθυνση** και είναι **ανάλογη της οριζόντιας συνιστώσας της ταχύτητας.** Η επιτάχυνση που προκαλεί η αντίσταση του αέρα περιγράφεται από τη σχέση:\n",
    "$$\n",
    "a_x = -b u_x,\n",
    "$$\n",
    "όπου $b$ μια σταθερά αναλογίας."
   ]
  },
  {
   "cell_type": "markdown",
   "metadata": {
    "heading_collapsed": true
   },
   "source": [
    "## Τροποποιημένη υπορουτίνα `update`"
   ]
  },
  {
   "cell_type": "markdown",
   "metadata": {
    "hidden": true
   },
   "source": [
    "Στο σώμα ασκείται, εκτός από το βάρος του $B$, και η αντίσταση του αέρα $f_x$. Ποια είναι η οριζόντια συνιστώσα της επιτάχυνσης $a_x$ και ποια η κατακόρυφη $a_y$ στην περίπτωση αυτή; "
   ]
  },
  {
   "cell_type": "markdown",
   "metadata": {
    "hidden": true
   },
   "source": [
    "Να τροποποιήσετε την πιο κάτω κυψέλη έτσι ώστε να λαμβάνεται υπόψη η επίδραση της αντίστασης του αέρα, και μετά να την τρέξετε. "
   ]
  },
  {
   "cell_type": "code",
   "execution_count": null,
   "metadata": {
    "hidden": true,
    "slideshow": {
     "slide_type": "-"
    }
   },
   "outputs": [],
   "source": [
    "def update(x, y, vx, vy):\n",
    "    ax = 0 # η οριζόντια συνιστώσα της επιτάχυνσης\n",
    "    ay = -9.81 # η κατακόρυφη συνιστώσα της επιτάχυνσης\n",
    "\n",
    "    x_new = x + vx*dt\n",
    "    y_new = y + vy*dt\n",
    "    vx_new = vx + ax*dt\n",
    "    vy_new = vy + ay*dt\n",
    "    \n",
    "    return x_new, y_new, vx_new, vy_new"
   ]
  },
  {
   "cell_type": "markdown",
   "metadata": {
    "hidden": true
   },
   "source": [
    "**Υπενθύμιση:** Έχοντας τρέξει την πιο πάνω κυψέλη, απλά ορίσατε την τροποποιημένη υπορουτίνα `update` έτσι ώστε να λαμβάνει υπόψη την αντίσταση του αέρα. \n",
    "\n",
    "Η υπορουτίνα `graph` που ορίζεται στην πιο κάτω κυψέλη, οπτικοποιεί τα αποτελέσματα μας, υπό μορφή γραφικής παράστασης, όπως και στην προηγούμενη δραστηριότητα. Στην δραστηριότητα αυτή Θα παρουσιάζεται η τροχιά του σώματος υπό την επίδραση της αντίστασης του αέρα (συνεχόμενη γραμμή) και η αναλυτική λύση της τροχιάς του σώματος που εκτελεί ελεύθερη πτώση (διακεκομμένη γραμμή) έτσι ώστε να παρατηρήσετε πώς μεταβάλλεται το βεληνεκές στην παρουσία αντίστασης του αέρα, σε συνάρτηση με την συντελεστή αναλογίας $b$.  \n",
    "\n",
    "Να τρέξτε την πιο κάτω κυψέλη:"
   ]
  },
  {
   "cell_type": "code",
   "execution_count": null,
   "metadata": {
    "code_folding": [
     0
    ],
    "hidden": true
   },
   "outputs": [],
   "source": [
    "def graph(x, y, vx, vy):\n",
    "    # Ορίζουμε την επιτάχυνση της βαρύτητας \n",
    "    g = 10\n",
    "\n",
    "    # Το βεληνεκές από την αναλυτική λύση\n",
    "    r = vx/g*(vy + np.sqrt(vy**2 + 2*g*y))\n",
    "\n",
    "    # Ζωγραφίζουμε, με διακεκομμένη γραμμή, την αναλυτική λύση για τιμές του x από μηδέν μέχρι το βεληνεκές r\n",
    "    xx = np.linspace(0,r)\n",
    "    plt.plot(xx, y + vy/vx*(xx - x) - g/2*(xx-x)**2/vx**2, ls=\"--\", color=\"k\")\n",
    "    \n",
    "    # Ορίζουμε μια νέα λίστα, με αρχικές τιμές την αρχική θέση\n",
    "    trajectory = [(x, y)]\n",
    "    \n",
    "    # Επαναλαμβάνουμε τον επόμενο βρόγχο εως ότου το y γίνει αρνητικό\n",
    "    while y >= 0:\n",
    "        # Τρέχουμε την update(), με όρισμα τις μεταβλητές x, y, vx, και vy, και αποθηκεύουμε \n",
    "        # τις νέες τιμές στις ίδιες μεταβλητές\n",
    "        x, y, vx, vy = update(x, y, vx, vy)\n",
    "        \n",
    "        # Βάζουμε στο τέλος της λίστας τις νέες τιμές\n",
    "        trajectory.append((x,y))\n",
    "        \n",
    "    # Ζωγραφίζουμε με κόκκινους κύκλους τις τιμές της λίστας\n",
    "    plt.plot(*zip(*trajectory), ls=\"-\", color=\"r\", lw=0.1, marker=\"o\", ms=4)\n",
    "\n",
    "    # Θέτουμε τα όρια των αξόνων\n",
    "    plt.xlim(0, 0.5)\n",
    "    plt.ylim(0, 0.4)\n",
    "    \n",
    "    # Συμβολίζουμε τους άξονες\n",
    "    plt.xlabel(\"x [m]\")\n",
    "    plt.ylabel(\"y [m]\")"
   ]
  },
  {
   "cell_type": "markdown",
   "metadata": {
    "heading_collapsed": true
   },
   "source": [
    "## Εκτέλεση"
   ]
  },
  {
   "cell_type": "markdown",
   "metadata": {
    "hidden": true
   },
   "source": [
    "Να επιλέξετε μια κατάλληλη τιμή για το χρονικό διάστημα $\\Delta t$ σύμφωνα με την προηγούμενη δραστηριότητα. Για τον συντελετή αναλογίας $b$ επιλέξτε αρχικά την τιμή $0.1$."
   ]
  },
  {
   "cell_type": "code",
   "execution_count": null,
   "metadata": {
    "hidden": true
   },
   "outputs": [],
   "source": [
    "b = \n",
    "dt = "
   ]
  },
  {
   "cell_type": "markdown",
   "metadata": {
    "hidden": true
   },
   "source": [
    "Να επιλέξετε την ίδια αρχική θέση και ταχύτητα με την προηγούμενη δραστηριότητα: $x=0, y=0, u_x=1, u_y=2$ "
   ]
  },
  {
   "cell_type": "code",
   "execution_count": null,
   "metadata": {
    "hidden": true
   },
   "outputs": [],
   "source": [
    "graph(, , , )"
   ]
  },
  {
   "cell_type": "markdown",
   "metadata": {
    "hidden": true
   },
   "source": [
    "Να συγκρίνετε το βεληνεκές της πλάγιας βολής με και χωρίς αντίσταση του αέρα. "
   ]
  },
  {
   "cell_type": "markdown",
   "metadata": {
    "heading_collapsed": true,
    "hidden": true
   },
   "source": [
    "##### Τι προβλέπετε ότι θα συμβεί αν αυξήσετε τον συντελεστή αναλογίας σε `0.5`;"
   ]
  },
  {
   "cell_type": "markdown",
   "metadata": {
    "hidden": true
   },
   "source": [
    "Να τροποποιήσετε ανάλογα την πιο κάτω κυψέλη και να την τρέξετε."
   ]
  },
  {
   "cell_type": "code",
   "execution_count": null,
   "metadata": {
    "hidden": true
   },
   "outputs": [],
   "source": [
    "b = \n",
    "graph(0, 0, 1, 2)"
   ]
  },
  {
   "cell_type": "markdown",
   "metadata": {
    "hidden": true
   },
   "source": [
    "Να επαναλάβετε τη διαδικασία για $b=1$."
   ]
  },
  {
   "cell_type": "code",
   "execution_count": null,
   "metadata": {
    "hidden": true
   },
   "outputs": [],
   "source": [
    "b = \n",
    "graph(0, 0, 1, 2)"
   ]
  },
  {
   "cell_type": "markdown",
   "metadata": {
    "heading_collapsed": true,
    "hidden": true
   },
   "source": [
    "##### Συμπέρασμα"
   ]
  },
  {
   "cell_type": "markdown",
   "metadata": {
    "hidden": true
   },
   "source": [
    " Παρατηρούμε πως, το βεληνεκές μειώνεται όσο αυξάνεται ο συντελεστής τριβής, όπως αναμενόταν. "
   ]
  }
 ],
 "metadata": {
  "kernelspec": {
   "display_name": "Python 3",
   "language": "python",
   "name": "python3"
  },
  "language_info": {
   "codemirror_mode": {
    "name": "ipython",
    "version": 3
   },
   "file_extension": ".py",
   "mimetype": "text/x-python",
   "name": "python",
   "nbconvert_exporter": "python",
   "pygments_lexer": "ipython3",
   "version": "3.5.0"
  }
 },
 "nbformat": 4,
 "nbformat_minor": 1
}
