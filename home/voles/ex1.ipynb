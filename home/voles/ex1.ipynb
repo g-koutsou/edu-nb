{
 "cells": [
  {
   "cell_type": "markdown",
   "metadata": {},
   "source": [
    "### Οδηγίες χρήσης"
   ]
  },
  {
   "cell_type": "markdown",
   "metadata": {
    "hideCode": false,
    "hidePrompt": false
   },
   "source": [
    "Κατά τη διάρκεια της άσκησης αυτής, θα χρειαστεί να ακολουθήσετε τις οδηγίες πριν από κάθε κυψέλη και έπειτα να τρέχετε την κάθε κυψέλη με κώδικα που την ακολουθεί (επιλέγοντας την και είτε πατώντας το \"Run\" είτε ctr+enter). Όπου χρειαστεί να τροποποιήσετε την κυψέλη \"διπλοπατίστε\" πάνω σε αυτήν. \n",
    "\n",
    "Τρέξτε την επόμενη κυψέλη για να ενεργοποιήσετε το περιβάλλον."
   ]
  },
  {
   "cell_type": "code",
   "execution_count": null,
   "metadata": {
    "hideCode": false,
    "hidePrompt": false
   },
   "outputs": [],
   "source": [
    "%precision 2\n",
    "import numpy as np\n",
    "from matplotlib import pyplot as plt\n",
    "%matplotlib inline\n",
    "fmt = \"{:.2f} {:.2f} {:.2f} {:.2f}\""
   ]
  },
  {
   "cell_type": "markdown",
   "metadata": {
    "hideCode": false,
    "hideOutput": false,
    "hidePrompt": false
   },
   "source": [
    "# Υπολογιστική Επίλυση Πλάγιας βολής"
   ]
  },
  {
   "cell_type": "markdown",
   "metadata": {
    "heading_collapsed": true
   },
   "source": [
    "## Θεωρία"
   ]
  },
  {
   "cell_type": "markdown",
   "metadata": {
    "hidden": true
   },
   "source": [
    "Για την αριθμητική επίλυση της πλάγιας βολής, επιλέγουμε ένα μικρό χρονικό διάστημα $\\Delta t$. Εάν το $\\Delta t$ είναι αρκετά μικρό, μπορούμε να υποθέσουμε ότι κατά το διάστημα $\\Delta t$ το σώμα εκτελεί ομαλή ευθύγραμμη κίνηση για να υπολογίσουμε την νέα θέση:\n",
    "$$\n",
    "  x_{i+1} = x_i + u_{ix} \\Delta t\n",
    "$$\n",
    "$$\n",
    "  y_{i+1} = y_i + u_{iy} \\Delta t,\n",
    "$$\n",
    "όπου $x_i$ και $y_i$ είναι οι συντεταγμένες του σώματος για το στιγμιότυπο $\\Sigma_i$, ενώ $x_{i+1}$ και $y_{i+1}$ είναι για το στιγμιότυπο $\\Sigma_{i+1}$. Για να υπολογίσουμε την ταχύτητα $u_{i+1x}$ και $u_{i+1y}$ του ακόλουθου στιγμιότυπου $\\Sigma_{i+1}$, υποθέτουμε πως το σώμα εκτελεί ομαλά επιταχυνόμενη κίνηση κατά την διάρκεια του διαστήματος $\\Delta t$, και έτσι προκύπτει:\n",
    "$$\n",
    "  u_{i+1x} = u_{ix} + a_{x} \\Delta t\n",
    "$$\n",
    "$$\n",
    "  u_{i+1y} = u_{iy} + a_{y} \\Delta t,\n",
    "$$\n",
    "όπου $a_x$ και $a_y$ είναι η συνιστώσες της επιτάχυνση του σώματος στην οριζόντια και κατακόρυφη διεύθυνση αντίστοιχα."
   ]
  },
  {
   "cell_type": "markdown",
   "metadata": {
    "heading_collapsed": true
   },
   "source": [
    "## Η υπορουτίνα `update`"
   ]
  },
  {
   "cell_type": "markdown",
   "metadata": {
    "hidden": true
   },
   "source": [
    "Ακολουθεί ένα πρόγραμμα με το οποίο μπορούμε να υπολογίσουμε τις θέσεις για διαδοχικά στιγμιότυπα. Κατ' αρχήν, ορίζουμε μια _υπορουτίνα_ (function). Το όνομα της υπορουτίνας είναι `update`, και ορίζεται ως εξής:\n",
    "```python\n",
    "def update(x, y, vx, vy):\n",
    "```\n",
    "Αυτό διευκρινίζει πως η υπορουτίνα `update` δέχεται τέσσερις παραμέτρους: τις συντεταγμένες του σώματος `x`, `y`, και τις συνιστώσες τις ταχύτητας στις δύο κατευθύνσεις, `vx`, `vy`, που είχαμε συμβολίσει με $x$, $y$ και $u_x$, $u_y$. \n",
    "\n",
    "Να αναγνωρίσετε στο πιο κάτω κομμάτι κώδικα, τις εξισώσεις θέσης - χρόνου και ταχύτητας - χρόνου του σώματος.\n",
    "- Τι είδος κίνησης υποθέτουμε ότι εκτελεί το σώμα, κατά το χρονικό διάστημα $\\Delta t$, για να υπολογίσουμε τη θέση του σώματος κάποια χρονική στιγμή;\n",
    "- Τι είδος κίνησης υποθέτουμε ότι εκτελεί το σώμα, κατά το χρονικό διάστημα $\\Delta t$, για να υπολογίσουμε την ταχύτητα του σώματος κάποια χρονική στιγμή;\n",
    "- Ποια είναι η οριζόντια και η κατακόρυφη συνιστώσα της επιτάχυνσης του σώματος;"
   ]
  },
  {
   "cell_type": "code",
   "execution_count": null,
   "metadata": {
    "code_folding": [],
    "hidden": true,
    "hideCode": false,
    "hidePrompt": false,
    "slideshow": {
     "slide_type": "-"
    }
   },
   "outputs": [],
   "source": [
    "def update(x, y, vx, vy):\n",
    "    ax = 0\n",
    "    ay = -10\n",
    "\n",
    "    x_new = x + vx*dt\n",
    "    y_new = y + vy*dt\n",
    "    vx_new = vx + ax*dt\n",
    "    vy_new = vy + ay*dt\n",
    "    \n",
    "    return x_new, y_new, vx_new, vy_new"
   ]
  },
  {
   "cell_type": "markdown",
   "metadata": {
    "hidden": true
   },
   "source": [
    "Τρέξτε την πιο πάνω κυψέλη, που περιέχει τον πλήρη κώδικα της υπορουτίνας `update`.\n",
    "\n",
    "Έχοντας τρέξει την πιο πάνω κυψέλη έχετε απλά _ορίσει_ την υπορουτίνα, αλλά δεν έχετε ακόμη _εκτελέσει_ την υπορουτίνα. Αυτό θα ακολουθήσει αφού επεξηγηθεί σύντομα το περιεχόμενο της υπορουτίνας."
   ]
  },
  {
   "cell_type": "markdown",
   "metadata": {
    "heading_collapsed": true,
    "hideCode": false,
    "hidePrompt": false
   },
   "source": [
    "## Σύντομη επεξήγηση της υπορουτίνας `update`"
   ]
  },
  {
   "cell_type": "markdown",
   "metadata": {
    "hidden": true
   },
   "source": [
    "Στις πρώτες γραμμές της υπορουτίνας, ορίζουμε την επιτάχυνση:\n",
    "```python\n",
    "ax = 0\n",
    "ay = -10\n",
    "```\n",
    "Στην οριζόντια διεύθυνση είναι μηδέν ενώ στην κατακόρυφη είναι η επιτάχυνση της βαρύτητας. Ακολούθως, στις επόμενες δύο γραμμές, υπολογίζουμε τις συντεταγμένες της νέας θέσης:\n",
    "```python\n",
    "x_new = x + vx*dt\n",
    "y_new = y + vy*dt\n",
    "```\n",
    "ενώ στις επόμενες δύο γραμμές υπολογίζουμε τις συνιστώσες της νέας ταχύτητας:\n",
    "```python\n",
    "vx_new = vx + ax*dt\n",
    "vy_new = vy + ay*dt\n",
    "```\n",
    "Η γραμμή:\n",
    "```python\n",
    "return x_new, y_new, vx_new, vy_new\n",
    "```\n",
    "υποδεικνύει ποιο θα θέλαμε να είναι το αποτέλεσμα της υπορουτίνας που θα επιστραφεί. Συγκεκριμένα, υποδεικνύουμε πως το αποτέλεσμα της υπορουτίνας είναι οι τέσσερις μεταβλητές: `x_new, y_new, vx_new, vy_new`."
   ]
  },
  {
   "cell_type": "markdown",
   "metadata": {
    "heading_collapsed": true,
    "hideCode": false,
    "hidePrompt": false
   },
   "source": [
    "## Εκτέλεση"
   ]
  },
  {
   "cell_type": "markdown",
   "metadata": {
    "hidden": true
   },
   "source": [
    "Να τροποποιήσετε την επόμενη κυψέλη, θέτοντας το χρονικό διάστημα $\\Delta t$ σε 0.1 και μετά να την τρέξετε."
   ]
  },
  {
   "cell_type": "code",
   "execution_count": null,
   "metadata": {
    "hidden": true,
    "hideCode": false,
    "hidePrompt": false
   },
   "outputs": [],
   "source": [
    "dt = "
   ]
  },
  {
   "cell_type": "markdown",
   "metadata": {
    "hidden": true,
    "hideCode": false,
    "hidePrompt": false
   },
   "source": [
    "Να επιλέξετε την αρχική θέση και την αρχική ταχύτητα του σώματος τροποποιώντας ανάλογα την πιο κάτω κυψέλη και μετά να την τρέξετε.\n",
    "\n",
    "**Υπενθύμιση:** Οι τέσσερις τιμές που δέχεται η υπορουτίνα `update` είναι κατά σειρά  $x$, $y$, $u_x$ και $u_y$."
   ]
  },
  {
   "cell_type": "code",
   "execution_count": null,
   "metadata": {
    "hidden": true,
    "hideCode": false,
    "hidePrompt": false
   },
   "outputs": [],
   "source": [
    "update(, , , )"
   ]
  },
  {
   "cell_type": "markdown",
   "metadata": {
    "hidden": true,
    "hideCode": false,
    "hidePrompt": false
   },
   "source": [
    "##### Σε τι αντιστοιχούν οι τιμές του αποτελέσματος που έχετε πάρει;"
   ]
  },
  {
   "cell_type": "markdown",
   "metadata": {
    "hidden": true
   },
   "source": [
    "**Απάντηση:** Το αποτέλεσμα της υπορουτίνας `update`, που πέρνετε `(0.1, 0.2, 1.0, 1.0)`, δηλαδή  $x_1=0.1$, $y_1=0.2$ και  $u_{1x}=1$, $u_{1y}=1$ αντιστοιχεί στις συνιστώσες της θέσης και της ταχύτητας στο στιγμιότυπο  $\\Sigma_1$."
   ]
  },
  {
   "cell_type": "markdown",
   "metadata": {
    "heading_collapsed": true,
    "hidden": true
   },
   "source": [
    "##### Πως θα βρείτε τις αντίστοιχες συνιστώσες της θέσης και της ταχύτητας στο επόμενο στιγμιότυπο $\\Sigma_2$;"
   ]
  },
  {
   "cell_type": "markdown",
   "metadata": {
    "hidden": true
   },
   "source": [
    "Για να βρούμε τις συντεταγμένες  $x_2$, $y_2$ και τις συνιστώσες της ταχύτητας  $u_{2x}$, $u_{2y}$ στο  $\\Sigma_2$, εκτελούμε ξανά την υπορουτίνα `update`, αλλά δίδοντας ως παραμέτρους τις συντεταγμένες και την ταχύτητα του $\\Sigma_1$:"
   ]
  },
  {
   "cell_type": "code",
   "execution_count": null,
   "metadata": {
    "hidden": true,
    "hideCode": false,
    "hidePrompt": false
   },
   "outputs": [],
   "source": [
    "update(, , , )"
   ]
  },
  {
   "cell_type": "markdown",
   "metadata": {
    "hidden": true,
    "hideCode": false,
    "hidePrompt": false
   },
   "source": [
    "Να εκτελέσετε την υπορουτίνα update ακόμη τρεις φορές, πάντα θέτοντας ως παραμέτρους το αποτέλεσμα του προηγούμενου βήματος:"
   ]
  },
  {
   "cell_type": "code",
   "execution_count": null,
   "metadata": {
    "hidden": true,
    "hideCode": false,
    "hidePrompt": false
   },
   "outputs": [],
   "source": [
    "update(, , , )"
   ]
  },
  {
   "cell_type": "code",
   "execution_count": null,
   "metadata": {
    "hidden": true,
    "hideCode": false,
    "hidePrompt": false
   },
   "outputs": [],
   "source": [
    "update(, , , )"
   ]
  },
  {
   "cell_type": "code",
   "execution_count": null,
   "metadata": {
    "hidden": true,
    "hideCode": false,
    "hidePrompt": false
   },
   "outputs": [],
   "source": [
    "update(, , , )"
   ]
  },
  {
   "cell_type": "markdown",
   "metadata": {
    "heading_collapsed": true,
    "hideCode": false,
    "hidePrompt": false
   },
   "source": [
    "## Βρόγχος για αυτοματοποίηση πολλών βημάτων"
   ]
  },
  {
   "cell_type": "markdown",
   "metadata": {
    "hidden": true
   },
   "source": [
    "Είναι προφανές πως για μεγάλο αριθμό βημάτων, το να εκτελούμε μία μία την υπορουτίνα `update` δεν είναι πρακτικό. Μπορούμε να γράψουμε ένα _βρόγχο_ (loop), στον οποίο αυτοματοποιούμε την εκτέλεση του `update`, αποθηκεύουμε το αποτέλεσμα στις μεταβλητές `x`, `y`, `vx`, `vy`, τις τυπώνουμε (`print`), και επαναλαμβάνουμε πέντε φορές.\n",
    "\n",
    "Πρώτα ορίζουμε τις αρχικές συνθήκες, δηλαδή τις αρχικές τιμές για τα `x`, `y`, `vx`, `vy`:"
   ]
  },
  {
   "cell_type": "code",
   "execution_count": null,
   "metadata": {
    "hidden": true,
    "hideCode": false,
    "hidePrompt": false
   },
   "outputs": [],
   "source": [
    "x = 0\n",
    "y = 0\n",
    "vx = 1\n",
    "vy = 2"
   ]
  },
  {
   "cell_type": "markdown",
   "metadata": {
    "hidden": true,
    "hideCode": false,
    "hidePrompt": false
   },
   "source": [
    "Έπειτα με την εντολή:\n",
    "```python\n",
    "for i in range(5):\n",
    "```\n",
    "επαναλαμβάνουμε 5 φορές τον κώδικα που ακολουθεί. Εκτελέστε το ακόλουθο:"
   ]
  },
  {
   "cell_type": "code",
   "execution_count": null,
   "metadata": {
    "hidden": true,
    "hideCode": false,
    "hidePrompt": false
   },
   "outputs": [],
   "source": [
    "for i in range(5):\n",
    "    x, y, vx, vy = update(x, y, vx, vy)\n",
    "    print(fmt.format(x, y, vx, vy))"
   ]
  },
  {
   "cell_type": "markdown",
   "metadata": {
    "hidden": true
   },
   "source": [
    "Βλέπουμε πως παίρνουμε αυτόματα και τα πέντε στιγμιότυπα."
   ]
  },
  {
   "cell_type": "markdown",
   "metadata": {
    "heading_collapsed": true,
    "hideCode": false,
    "hidePrompt": false
   },
   "source": [
    "## Απεικόνιση αποτελεσμάτων"
   ]
  },
  {
   "cell_type": "markdown",
   "metadata": {
    "hidden": true
   },
   "source": [
    "Για την απεικόνιση των αποτελεσμάτων μας, μπορούμε να χρησιμοποιήσουμε την υπορουτίνα που ορίζεται στην επόμενη κυψέλη, με ονομασία `graph`. Για λεπτομέρειες όσο αφορά τα συγκεκριμένα βήματα της υπορουτίνας μπορείτε να διαβάσετε τα σχόλια που υπάρχουν μέσα στον κώδικα. Για τους σκοπούς αυτής της άσκησης όμως, αρκεί να γνωρίζετε πως:\n",
    "\n",
    "1. Η υπορουτίνα δέχεται 4 παραμέτρους: `x`, `y`, `vx`, `vy`, με τις οποίες θέτει τις αρχικές συντεταγμένες και την αρχική ταχύτητα, (ακριβώς όπως και η `update`).\n",
    "\n",
    "1. Η υπορουτίνα τρέχει διαδοχικά το `update` και σταματάει όταν η συντεταγμένη `y` γίνει αρνητική\n",
    "\n",
    "1. Το αποτέλεσμα είναι γραφική παράσταση με τα διαδοχικά σημεία της υπορουτίνας `update` με κόκκινο. Η διακεκομμένη γραμμή είναι η αναλυτική λύση, την οποία και αυτή υπολογίζει η υπορουτίνα χρησιμοποιώντας τον τύπο της πλάγιας βολής.\n",
    "\n",
    "Τρέξτε λοιπόν την επόμενη κυψέλη για να ορίσετε την υπορουτίνα `graph`:"
   ]
  },
  {
   "cell_type": "code",
   "execution_count": null,
   "metadata": {
    "code_folding": [
     0
    ],
    "hidden": true,
    "hideCode": false,
    "hidePrompt": false
   },
   "outputs": [],
   "source": [
    "def graph(x, y, vx, vy):\n",
    "    # Ορίζουμε την επιτάχυνση της βαρύτητας \n",
    "    g = 10\n",
    "\n",
    "    # Το βεληνεκές από την αναλυτική λύση\n",
    "    r = vx/g*(vy + np.sqrt(vy**2 + 2*g*y))\n",
    "\n",
    "    # Ζωγραφίζουμε, με διακεκομμένη γραμμή, την αναλυτική λύση για τιμές του x από μηδέν μέχρι το βεληνεκές r\n",
    "    xx = np.linspace(0,r)\n",
    "    plt.plot(xx, y + vy/vx*(xx - x) - g/2*(xx-x)**2/vx**2, ls=\"--\", color=\"k\")\n",
    "    \n",
    "    # Ορίζουμε μια νέα λίστα, με αρχικές τιμές την αρχική θέση\n",
    "    trajectory = [(x, y)]\n",
    "    \n",
    "    # Επαναλαμβάνουμε τον επόμενο βρόγχο εως ότου το y γίνει αρνητικό\n",
    "    while y >= 0:\n",
    "        # Τρέχουμε την update(), με όρισμα τις μεταβλητές x, y, vx, και vy, και αποθηκεύουμε \n",
    "        # τις νέες τιμές στις ίδιες μεταβλητές\n",
    "        x, y, vx, vy = update(x, y, vx, vy)\n",
    "        \n",
    "        # Βάζουμε στο τέλος της λίστας τις νέες τιμές\n",
    "        trajectory.append((x,y))\n",
    "        \n",
    "    # Ζωγραφίζουμε με κόκκινους κύκλους τις τιμές της λίστας\n",
    "    plt.plot(*zip(*trajectory), ls=\"-\", color=\"r\", lw=0.1, marker=\"o\", ms=4)\n",
    "\n",
    "    # Θέτουμε τα όρια των αξόνων\n",
    "    plt.xlim(0, 0.5)\n",
    "    plt.ylim(0, 0.4)\n",
    "    \n",
    "    # Συμβολίζουμε τους άξονες\n",
    "    plt.xlabel(\"x [m]\")\n",
    "    plt.ylabel(\"y [m]\")"
   ]
  },
  {
   "cell_type": "markdown",
   "metadata": {
    "hidden": true,
    "hideCode": false,
    "hidePrompt": false
   },
   "source": [
    "Αρχικά θα εκτελέσουμε την `graph` για να απεικονίσουμε το πρώτο μας παράδειγμα, στο οποίο `dt=0.1`. Αυτό κάνει η επόμενη κυψέλη. Τρέξτε την για να εμφανιστεί το γράφημα. "
   ]
  },
  {
   "cell_type": "code",
   "execution_count": null,
   "metadata": {
    "hidden": true,
    "hideCode": false,
    "hidePrompt": false
   },
   "outputs": [],
   "source": [
    "dt = 0.1\n",
    "graph(0, 0, 1, 2)"
   ]
  },
  {
   "cell_type": "markdown",
   "metadata": {
    "hidden": true,
    "hideCode": false,
    "hidePrompt": false
   },
   "source": [
    "Βλέπουμε το μεγάλο σφάλμα διακριτοποίησης."
   ]
  },
  {
   "cell_type": "markdown",
   "metadata": {
    "heading_collapsed": true,
    "hidden": true
   },
   "source": [
    "##### Πως μπορώ να ελαττώσσω το σφάλμα διακριτοποίησης;"
   ]
  },
  {
   "cell_type": "markdown",
   "metadata": {
    "hidden": true
   },
   "source": [
    " **Απάντηση:** Όπως έχουμε πει, για καλύτερη ακρίβεια, πρέπει να μικράνουμε το  $\\Delta t$\n",
    " αυξάνοντας και τον αριθμό των στιγμιοτύπων."
   ]
  },
  {
   "cell_type": "markdown",
   "metadata": {
    "hidden": true
   },
   "source": [
    "Εκτελέστε την πιο κάτω κυψέλη για να εμφανιστεί το γράφημα με $\\Delta t = 0.025$."
   ]
  },
  {
   "cell_type": "code",
   "execution_count": null,
   "metadata": {
    "hidden": true,
    "hideCode": false,
    "hidePrompt": false
   },
   "outputs": [],
   "source": [
    "dt = 0.025\n",
    "graph(0, 0, 1, 2)"
   ]
  },
  {
   "cell_type": "markdown",
   "metadata": {
    "hidden": true,
    "hideCode": false,
    "hidePrompt": false
   },
   "source": [
    "**Ερώτηση:** Τι παρατηρείτε μεταξύ της αναλυτικής και αριθμητικής λύσης, καθώς ελαττώνεται το χρονικό διάστημα;"
   ]
  },
  {
   "cell_type": "markdown",
   "metadata": {
    "hidden": true
   },
   "source": [
    "Τροποποιείστε και τρέξτε την επόμενη κυψέλη, έτσι ώστε η αριθμητική λύση να επικαλύπτει την αναλυτική."
   ]
  },
  {
   "cell_type": "code",
   "execution_count": null,
   "metadata": {
    "hidden": true,
    "hideCode": false,
    "hidePrompt": false
   },
   "outputs": [],
   "source": [
    "dt =\n",
    "graph(0, 0, 1, 2)"
   ]
  }
 ],
 "metadata": {
  "hide_code_all_hidden": false,
  "kernelspec": {
   "display_name": "Python 3",
   "language": "python",
   "name": "python3"
  },
  "language_info": {
   "codemirror_mode": {
    "name": "ipython",
    "version": 3
   },
   "file_extension": ".py",
   "mimetype": "text/x-python",
   "name": "python",
   "nbconvert_exporter": "python",
   "pygments_lexer": "ipython3",
   "version": "3.5.0"
  }
 },
 "nbformat": 4,
 "nbformat_minor": 1
}
